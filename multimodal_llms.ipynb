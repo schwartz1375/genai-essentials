{
 "cells": [
  {
   "cell_type": "markdown",
   "metadata": {},
   "source": [
    "# Multimodal LLMs: Vision-Language Models and Document Understanding\n",
    "\n",
    "This notebook explores multimodal Large Language Models that can process both text and images. We'll use models available through Ollama that work well on my MacBook Pro (M3 Max with 32GB RAM).\n",
    "\n",
    "## Prerequisites\n",
    "\n",
    "1. Install [Ollama](https://ollama.com)\n",
    "2. Pull vision models: `ollama pull llava`\n",
    "3. Install required packages"
   ]
  },
  {
   "cell_type": "code",
   "execution_count": 1,
   "metadata": {},
   "outputs": [],
   "source": [
    "#!pip install ollama pillow matplotlib requests"
   ]
  },
  {
   "cell_type": "markdown",
   "metadata": {},
   "source": [
    "## Configuration and Best Practices\n",
    "\n",
    "### Switching Between Local and Remote\n",
    "\n",
    "**To use local Ollama (recommended):**\n",
    "```python\n",
    "OLLAMA_MODE = 'local'\n",
    "```\n",
    "\n",
    "**To use remote Ollama:**\n",
    "```python\n",
    "OLLAMA_MODE = 'remote'\n",
    "REMOTE_HOST = 'http://your-server:11434'\n",
    "```\n",
    "\n",
    "### Model Recommendations for Apple MacBook Pro (M3 Max with 32GB RAM)\n",
    "- **llava:7b** - Best balance for 32GB RAM\n",
    "- **llava:13b** - Higher quality but uses more memory\n",
    "- **bakllava** - Alternative architecture\n",
    "\n",
    "### Optimization Tips\n",
    "1. Use smaller image sizes (max 1024px)\n",
    "2. Process images sequentially, not in parallel\n",
    "3. Clear variables between large operations\n",
    "4. Monitor memory usage with Activity Monitor\n",
    "\n",
    "### Key Differences\n",
    "- **Local**: Direct file paths, faster, no network overhead\n",
    "- **Remote**: Base64 encoding, network latency, centralized processing\n",
    "\n",
    "### Common Use Cases\n",
    "- Document analysis and OCR\n",
    "- Chart and graph interpretation\n",
    "- Visual content moderation\n",
    "- Accessibility descriptions\n",
    "- Multimodal search"
   ]
  },
  {
   "cell_type": "code",
   "execution_count": 2,
   "metadata": {},
   "outputs": [
    {
     "name": "stdout",
     "output_type": "stream",
     "text": [
      "Working directory created: temp/\n",
      "Ollama mode: local\n"
     ]
    }
   ],
   "source": [
    "import ollama\n",
    "import base64\n",
    "from PIL import Image\n",
    "import matplotlib.pyplot as plt\n",
    "import os\n",
    "\n",
    "# Configuration: Set to 'local' or 'remote'\n",
    "OLLAMA_MODE = 'local'  # Change to 'remote' if needed\n",
    "REMOTE_HOST = 'http://127.0.0.1:11434'  # Update with your remote host\n",
    "\n",
    "# Import requests only if using remote mode\n",
    "if OLLAMA_MODE == 'remote':\n",
    "    import requests\n",
    "    import json\n",
    "\n",
    "# Create working directory for temporary files\n",
    "WORKING_DIR = \"temp\"\n",
    "os.makedirs(WORKING_DIR, exist_ok=True)\n",
    "print(f\"Working directory created: {WORKING_DIR}/\")\n",
    "print(f\"Ollama mode: {OLLAMA_MODE}\")"
   ]
  },
  {
   "cell_type": "markdown",
   "metadata": {},
   "source": [
    "## 1. Vision Model Functions\n",
    "\n",
    "Unified functions that work with both local and remote Ollama setups."
   ]
  },
  {
   "cell_type": "code",
   "execution_count": 3,
   "metadata": {},
   "outputs": [
    {
     "name": "stdout",
     "output_type": "stream",
     "text": [
      "Local Ollama connection successful\n",
      "LLaVA model ready for use\n"
     ]
    }
   ],
   "source": [
    "def encode_image_to_base64(image_path):\n",
    "    \"\"\"Convert image to base64 string (needed for remote API)\"\"\"\n",
    "    with open(image_path, \"rb\") as image_file:\n",
    "        return base64.b64encode(image_file.read()).decode('utf-8')\n",
    "\n",
    "def query_vision_model(model, prompt, image_path=None):\n",
    "    \"\"\"Query Ollama vision model - works with both local and remote\"\"\"\n",
    "    \n",
    "    if OLLAMA_MODE == 'local':\n",
    "        # Local ollama library approach\n",
    "        if image_path:\n",
    "            response = ollama.generate(\n",
    "                model=model,\n",
    "                prompt=prompt,\n",
    "                images=[image_path]\n",
    "            )\n",
    "        else:\n",
    "            response = ollama.generate(model=model, prompt=prompt)\n",
    "        \n",
    "        return response['response']\n",
    "    \n",
    "    elif OLLAMA_MODE == 'remote':\n",
    "        # Remote API approach\n",
    "        url = f\"{REMOTE_HOST}/api/generate\"\n",
    "        payload = {\"model\": model, \"prompt\": prompt, \"stream\": False}\n",
    "        \n",
    "        if image_path:\n",
    "            image_base64 = encode_image_to_base64(image_path)\n",
    "            payload[\"images\"] = [image_base64]\n",
    "        \n",
    "        response = requests.post(url, json=payload)\n",
    "        return response.json()[\"response\"]\n",
    "    \n",
    "    else:\n",
    "        raise ValueError(f\"Invalid OLLAMA_MODE: {OLLAMA_MODE}. Use 'local' or 'remote'\")\n",
    "\n",
    "# Test connection based on mode\n",
    "try:\n",
    "    if OLLAMA_MODE == 'local':\n",
    "        test_response = ollama.generate(model=\"llava\", prompt=\"Test connection\")\n",
    "        print(\"Local Ollama connection successful\")\n",
    "    else:\n",
    "        response = requests.get(f\"{REMOTE_HOST}/api/tags\")\n",
    "        print(f\"Remote Ollama connection successful: {REMOTE_HOST}\")\n",
    "    \n",
    "    print(\"LLaVA model ready for use\")\n",
    "    \n",
    "except Exception as e:\n",
    "    print(f\"Error: {e}\")\n",
    "    if OLLAMA_MODE == 'local':\n",
    "        if \"not found\" in str(e).lower():\n",
    "            print(\"Run: ollama pull llava\")\n",
    "        else:\n",
    "            print(\"Make sure Ollama is running: ollama serve\")\n",
    "    else:\n",
    "        print(f\"Check remote host: {REMOTE_HOST}\")"
   ]
  },
  {
   "cell_type": "markdown",
   "metadata": {},
   "source": [
    "## 2. Image Analysis and Description\n",
    "\n",
    "Let's start with basic image understanding tasks."
   ]
  },
  {
   "cell_type": "code",
   "execution_count": 4,
   "metadata": {},
   "outputs": [
    {
     "data": {
      "image/png": "[encoded data removed]",
      "text/plain": [
       "<Figure size 800x600 with 1 Axes>"
      ]
     },
     "metadata": {},
     "output_type": "display_data"
    },
    {
     "name": "stdout",
     "output_type": "stream",
     "text": [
      "Sample chart created: temp/sample_chart.png\n"
     ]
    }
   ],
   "source": [
    "# Create a sample chart\n",
    "fig, ax = plt.subplots(figsize=(8, 6))\n",
    "categories = ['Q1', 'Q2', 'Q3', 'Q4']\n",
    "values = [23, 45, 56, 78]\n",
    "ax.bar(categories, values, color=['blue', 'green', 'red', 'orange'])\n",
    "ax.set_title('Quarterly Sales Data')\n",
    "ax.set_ylabel('Sales (in thousands)')\n",
    "plt.tight_layout()\n",
    "\n",
    "chart_path = os.path.join(WORKING_DIR, 'sample_chart.png')\n",
    "plt.savefig(chart_path, dpi=150, bbox_inches='tight')\n",
    "plt.show()\n",
    "\n",
    "print(f\"Sample chart created: {chart_path}\")"
   ]
  },
  {
   "cell_type": "code",
   "execution_count": 5,
   "metadata": {},
   "outputs": [
    {
     "name": "stdout",
     "output_type": "stream",
     "text": [
      "Chart Analysis:\n",
      " The image displays a line chart with four lines, each representing different quarterly sales data for a company or organization. The vertical axis on the left side of the chart indicates \"Quarterly Sales Data,\" which suggests that the horizontal axis likely represents the quarters of a year. However, without more context or labels, it's not possible to determine the specific time frame or the names of the quarters shown.\n",
      "\n",
      "Each line corresponds to a different color code: blue for Q1, green for Q2, red for Q3, and orange for Q4. The data points along each line are represented by squares, with the exception of the Q2 and Q4 lines where some of the data points are connected by straight lines, indicating a trend or pattern in the sales data.\n",
      "\n",
      "At the bottom of the chart, there is a horizontal bar graph with five bars, each representing a different quarterly sales data for the company. The colors of the bars match those used in the line chart: blue for Q1, green for Q2, red for Q3, and orange for Q4. Each bar's height corresponds to the sales data for that specific quarter as shown on the line chart above it.\n",
      "\n",
      "The title \"Sales\" is prominently displayed at the top of the chart, indicating that the data being represented pertains to sales figures for the company or organization in question. There is no text within the image providing additional context or information about the data or the organization itself. The style of the chart suggests a simplistic and straightforward presentation of quarterly sales data. \n"
     ]
    }
   ],
   "source": [
    "# Analyze the chart with LLaVA\n",
    "chart_path = os.path.join(WORKING_DIR, 'sample_chart.png')\n",
    "prompt = \"Describe this chart in detail. What type of chart is it and what data does it show?\"\n",
    "\n",
    "try:\n",
    "    response = query_vision_model(\"llava\", prompt, chart_path)\n",
    "    print(\"Chart Analysis:\")\n",
    "    print(response)\n",
    "except Exception as e:\n",
    "    print(f\"Error: {e}\")\n",
    "    print(\"Make sure you have the llava model: ollama pull llava\")"
   ]
  },
  {
   "cell_type": "markdown",
   "metadata": {},
   "source": [
    "## 3. Document Understanding\n",
    "\n",
    "Multimodal models excel at understanding documents with mixed text and visual elements."
   ]
  },
  {
   "cell_type": "code",
   "execution_count": 6,
   "metadata": {},
   "outputs": [
    {
     "data": {
      "image/png": "[encoded data removed]",
      "text/plain": [
       "<Figure size 800x1000 with 1 Axes>"
      ]
     },
     "metadata": {},
     "output_type": "display_data"
    },
    {
     "name": "stdout",
     "output_type": "stream",
     "text": [
      "Sample invoice created: temp/sample_invoice.png\n"
     ]
    }
   ],
   "source": [
    "# Create a mock invoice\n",
    "fig, ax = plt.subplots(figsize=(8, 10))\n",
    "ax.text(0.1, 0.9, 'INVOICE', fontsize=24, fontweight='bold')\n",
    "ax.text(0.1, 0.85, 'Invoice #: INV-2024-001', fontsize=12)\n",
    "ax.text(0.1, 0.8, 'Date: January 15, 2024', fontsize=12)\n",
    "ax.text(0.1, 0.75, 'Bill To: Acme Corporation', fontsize=12)\n",
    "ax.text(0.1, 0.7, '123 Business St, City, ST 12345', fontsize=10)\n",
    "\n",
    "# Add table headers\n",
    "ax.text(0.1, 0.6, 'Description', fontsize=12, fontweight='bold')\n",
    "ax.text(0.5, 0.6, 'Quantity', fontsize=12, fontweight='bold')\n",
    "ax.text(0.7, 0.6, 'Price', fontsize=12, fontweight='bold')\n",
    "ax.text(0.85, 0.6, 'Total', fontsize=12, fontweight='bold')\n",
    "\n",
    "# Add line items\n",
    "ax.text(0.1, 0.55, 'Consulting Services', fontsize=10)\n",
    "ax.text(0.5, 0.55, '40 hrs', fontsize=10)\n",
    "ax.text(0.7, 0.55, '$150/hr', fontsize=10)\n",
    "ax.text(0.85, 0.55, '$6,000', fontsize=10)\n",
    "\n",
    "ax.text(0.1, 0.5, 'Software License', fontsize=10)\n",
    "ax.text(0.5, 0.5, '1', fontsize=10)\n",
    "ax.text(0.7, 0.5, '$2,000', fontsize=10)\n",
    "ax.text(0.85, 0.5, '$2,000', fontsize=10)\n",
    "\n",
    "# Add totals\n",
    "ax.text(0.7, 0.4, 'Subtotal:', fontsize=12, fontweight='bold')\n",
    "ax.text(0.85, 0.4, '$8,000', fontsize=12, fontweight='bold')\n",
    "ax.text(0.7, 0.35, 'Tax (8%):', fontsize=12)\n",
    "ax.text(0.85, 0.35, '$640', fontsize=12)\n",
    "ax.text(0.7, 0.3, 'Total:', fontsize=14, fontweight='bold')\n",
    "ax.text(0.85, 0.3, '$8,640', fontsize=14, fontweight='bold')\n",
    "\n",
    "ax.set_xlim(0, 1)\n",
    "ax.set_ylim(0, 1)\n",
    "ax.axis('off')\n",
    "plt.tight_layout()\n",
    "\n",
    "invoice_path = os.path.join(WORKING_DIR, 'sample_invoice.png')\n",
    "plt.savefig(invoice_path, dpi=150, bbox_inches='tight')\n",
    "plt.show()\n",
    "\n",
    "print(f\"Sample invoice created: {invoice_path}\")"
   ]
  },
  {
   "cell_type": "code",
   "execution_count": 7,
   "metadata": {},
   "outputs": [
    {
     "name": "stdout",
     "output_type": "stream",
     "text": [
      "Invoice Information Extraction:\n",
      " Sure, here's the information extracted from the invoice:\n",
      "\n",
      "1. Invoice Number: 1002-2023\n",
      "2. Date: January 13, 2023\n",
      "3. Customer Name: Acme Corporation\n",
      "4. Total Amount: $6,985\n",
      "5. List of Items and their Costs:\n",
      "   - Description: Consulting Services\n",
      "     Quantity: 1\n",
      "     Unit Price: $5,985\n",
      "     Extended Price: $5,985\n",
      "     Tax (6%): $379.10\n",
      "     Total: $6,364.20\n",
      "   - Description: Computer Equipment\n",
      "     Quantity: 1\n",
      "     Unit Price: $495\n",
      "     Extended Price: $495\n",
      "     Tax (6%): $30.80\n",
      "     Total: $5,305.60\n",
      "   - Description: Invoice Subtotal\n",
      "     Quantity: 1\n",
      "     Unit Price: $0.00\n",
      "     Extended Price: $0.00\n",
      "     Tax (6%): $0.00\n",
      "     Total: $0.00\n",
      "   - Description: Total Amount Due Now\n",
      "     Quantity: 1\n",
      "     Unit Price: $0.00\n",
      "     Extended Price: $0.00\n",
      "     Tax (6%): $0.00\n",
      "     Total: $0.00\n",
      "   - The invoice also shows a description for \"Disbursement\" with a quantity of 1 and a unit price of $0.00, but the extended price and total are not visible in the image provided.\n",
      "\n",
      "Please note that the invoice does not provide information on the actual items or services provided by Acme Corporation to the customer. It only lists the descriptions \"Consulting Services\" and \"Computer Equipment,\" which could be placeholders or general categories for various services or products. \n"
     ]
    }
   ],
   "source": [
    "# Extract information from the invoice\n",
    "invoice_path = os.path.join(WORKING_DIR, 'sample_invoice.png')\n",
    "\n",
    "extraction_prompt = \"\"\"\n",
    "Extract the following information from this invoice:\n",
    "1. Invoice number\n",
    "2. Date\n",
    "3. Customer name\n",
    "4. Total amount\n",
    "5. List of items and their costs\n",
    "\n",
    "Format your response clearly.\n",
    "\"\"\"\n",
    "\n",
    "try:\n",
    "    response = query_vision_model(\"llava\", extraction_prompt, invoice_path)\n",
    "    print(\"Invoice Information Extraction:\")\n",
    "    print(response)\n",
    "except Exception as e:\n",
    "    print(f\"Error: {e}\")"
   ]
  },
  {
   "cell_type": "markdown",
   "metadata": {},
   "source": [
    "## 4. Visual Question Answering\n",
    "\n",
    "Ask specific questions about visual content."
   ]
  },
  {
   "cell_type": "code",
   "execution_count": 8,
   "metadata": {},
   "outputs": [
    {
     "name": "stdout",
     "output_type": "stream",
     "text": [
      "Q: What was the highest sales quarter?\n",
      "A:  The image shows a bar chart representing the quarterly sales data for a business or organization. To determine which quarter had the highest sales, we need to compare the lengths of the bars on the chart. However, without the actual numbers associated with each bar, I'm unable to provide you with the exact quarters and their sales figures.\n",
      "\n",
      "If you can provide the values corresponding to each bar, I would be able to assist you in identifying which quarter had the highest sales. \n",
      "--------------------------------------------------\n",
      "Q: What's the difference between Q1 and Q4 sales?\n",
      "A:  The image you've provided is a line graph that displays quarterly sales data for a certain period, likely a year, with Q1 being the first quarter and Q4 being the fourth quarter. However, since I can only analyze text-based descriptions or visible content in images, I won't be able to provide an exact numerical difference between Q1 and Q4.\n",
      "\n",
      "The graph shows four bars representing sales for each quarter (Q1 to Q4). To determine the difference, you would need to look at the actual values of the bar graphs. The x-axis represents quarters 1 through 4, while the y-axis shows the number of sales units in that particular quarter.\n",
      "\n",
      "If you're asking for an interpretation or explanation of the graph based on the visual content, I can provide insights about the general trend, seasonal changes, and potential areas of focus for business strategy. \n",
      "--------------------------------------------------\n",
      "Q: What color represents Q3 in this chart?\n",
      "A:  The color representing Q3 in the provided bar graph is blue. \n",
      "--------------------------------------------------\n",
      "Q: What trend do you see in the sales data?\n",
      "A:  The image displays a line chart of quarterly sales data, where each quarter is represented by a colored bar. There are three quarters visible: Q1, Q2, and Q3. Here's what I observe about the sales trends:\n",
      "\n",
      "- In Quarter 3 (red bars), there appears to be a significant increase in sales compared to Q1 and Q2.\n",
      "- Sales in Quarter 4 (green bars) show a more moderate increase compared to Quarter 3, but they are still higher than the first quarter.\n",
      "- The first two quarters have relatively similar sales volumes, with Quarter 2 showing slightly lower sales figures.\n",
      "- There is an upward trend indicated by the chart, suggesting that sales are generally improving over time. However, without the complete data for subsequent quarters or a context for the specific product or service being sold, it's not possible to make definitive conclusions about future trends. \n",
      "--------------------------------------------------\n"
     ]
    }
   ],
   "source": [
    "# Ask specific questions about the chart\n",
    "questions = [\n",
    "    \"What was the highest sales quarter?\",\n",
    "    \"What's the difference between Q1 and Q4 sales?\",\n",
    "    \"What color represents Q3 in this chart?\",\n",
    "    \"What trend do you see in the sales data?\"\n",
    "]\n",
    "\n",
    "chart_path = os.path.join(WORKING_DIR, 'sample_chart.png')\n",
    "\n",
    "for question in questions:\n",
    "    try:\n",
    "        response = query_vision_model(\"llava\", question, chart_path)\n",
    "        print(f\"Q: {question}\")\n",
    "        print(f\"A: {response}\")\n",
    "        print(\"-\" * 50)\n",
    "    except Exception as e:\n",
    "        print(f\"Error with question '{question}': {e}\")"
   ]
  },
  {
   "cell_type": "markdown",
   "metadata": {},
   "source": [
    "## 5. Multimodal RAG: Combining Text and Images\n",
    "\n",
    "Integrate visual understanding with text-based retrieval."
   ]
  },
  {
   "cell_type": "code",
   "execution_count": 9,
   "metadata": {},
   "outputs": [
    {
     "name": "stdout",
     "output_type": "stream",
     "text": [
      "Query: What was our performance trend throughout 2024?\n",
      "Response:  Based on the text context, your company experienced a strong growth trend in Q4 2024 compared to Q1 2024. The revenue increased significantly by 78%, with notable contributions from consulting services and new software licensing deals. There was also market expansion into three new regions during this quarter. Additionally, the customer satisfaction score remained high at 4.8/5.\n",
      "\n",
      "Looking at the chart provided, we can observe that there are four quarters represented, each corresponding to a color on the bar graph. The bars represent different metrics of performance for your company. From left to right, the metrics seem to be related to customer satisfaction (blue), sales (red), and some other performance indicators (green and orange).\n",
      "\n",
      "While we cannot directly compare the exact performance in Q4 2024 with the previous quarters due to the lack of data points on the graph for those quarters, we can infer that there has been a consistent upward trend for sales throughout the year. The high customer satisfaction score of 4.8/5 in Q4 2024 suggests that your company ended the year on a positive note with regard to these metrics.\n",
      "\n",
      "In summary, your company showed a strong performance trend throughout 2024, with significant revenue growth, expanding market reach, and high customer satisfaction scores, as indicated by both the text context and the visual information in the chart. \n",
      "============================================================\n",
      "Query: How much did revenue grow from Q1 to Q4?\n",
      "Response:  The visual information provided by the chart indicates that the revenue grew significantly from Q1 to Q4, as it is marked with a very large value compared to the other quarters. However, without specific numerical values given in the image, I cannot provide an exact percentage of growth from Q1 to Q4 based on the text context alone. \n",
      "============================================================\n",
      "Query: What factors contributed to our Q4 success?\n",
      "Response:  Based on the context provided, the success of Q4 2024 can be attributed to several factors:\n",
      "\n",
      "1. Revenue increased by 78% compared to Q1 - The chart clearly shows a significant increase in revenue during Q4, indicating that the company experienced strong financial performance.\n",
      "\n",
      "2. Strong growth in consulting services - The consulting services category seems to have grown substantially in Q4, as indicated by the red bars on the chart, which are much higher than those for other service categories. This suggests that consulting services were a key driver of growth during this quarter.\n",
      "\n",
      "3. New software licensing deals contributed significantly - The blue bars represent software sales, and they show a notable increase in Q4 compared to the previous quarters. This indicates that new software licenses were a significant contributor to the company's success in Q4.\n",
      "\n",
      "4. Market expansion into 3 new regions - Although not directly visible from the chart, the context mentions market expansion into three new regions as contributing to the quarterly success. However, without more information, it is not possible to quantify this contribution on the chart.\n",
      "\n",
      "5. Customer satisfaction score: 4.8/5 - This high customer satisfaction rating suggests that customers were very satisfied with the company's services or products in Q4, which can positively impact future sales and growth.\n",
      "\n",
      "In summary, the strong financial performance, significant growth in consulting services, successful software licensing deals, and high customer satisfaction scores all contributed to the success of Q4 2024. The chart provides clear evidence of revenue growth and strong performance in specific service areas. \n",
      "============================================================\n"
     ]
    }
   ],
   "source": [
    "# Create a knowledge base with text and image\n",
    "knowledge_base = {\n",
    "    \"quarterly_report_q4_2024\": {\n",
    "        \"text\": \"\"\"\n",
    "        Q4 2024 Performance Summary:\n",
    "        - Revenue increased 78% compared to Q1\n",
    "        - Strong growth in consulting services\n",
    "        - New software licensing deals contributed significantly\n",
    "        - Market expansion into 3 new regions\n",
    "        - Customer satisfaction score: 4.8/5\n",
    "        \"\"\",\n",
    "        \"image_path\": os.path.join(WORKING_DIR, \"sample_chart.png\")\n",
    "    }\n",
    "}\n",
    "\n",
    "def multimodal_rag_query(query, knowledge_base):\n",
    "    \"\"\"Perform RAG with both text and image context\"\"\"\n",
    "    doc = knowledge_base[\"quarterly_report_q4_2024\"]\n",
    "    \n",
    "    # Create comprehensive prompt with text context\n",
    "    prompt = f\"\"\"\n",
    "    Context: {doc['text']}\n",
    "    \n",
    "    I also have a chart that shows the quarterly data visually.\n",
    "    \n",
    "    Question: {query}\n",
    "    \n",
    "    Please answer using both the text context and the visual information from the chart.\n",
    "    \"\"\"\n",
    "    \n",
    "    return query_vision_model(\"llava\", prompt, doc[\"image_path\"])\n",
    "\n",
    "# Test multimodal RAG\n",
    "test_queries = [\n",
    "    \"What was our performance trend throughout 2024?\",\n",
    "    \"How much did revenue grow from Q1 to Q4?\",\n",
    "    \"What factors contributed to our Q4 success?\"\n",
    "]\n",
    "\n",
    "for query in test_queries:\n",
    "    try:\n",
    "        response = multimodal_rag_query(query, knowledge_base)\n",
    "        print(f\"Query: {query}\")\n",
    "        print(f\"Response: {response}\")\n",
    "        print(\"=\" * 60)\n",
    "    except Exception as e:\n",
    "        print(f\"Error with query '{query}': {e}\")"
   ]
  },
  {
   "cell_type": "code",
   "execution_count": 10,
   "metadata": {},
   "outputs": [
    {
     "name": "stdout",
     "output_type": "stream",
     "text": [
      "Cleaned up temp/ directory\n",
      "\n",
      "Notebook completed using local mode!\n",
      "You now have a foundation for multimodal LLM applications.\n"
     ]
    }
   ],
   "source": [
    "# Cleanup\n",
    "import shutil\n",
    "\n",
    "if os.path.exists(WORKING_DIR):\n",
    "    shutil.rmtree(WORKING_DIR)\n",
    "    print(f\"Cleaned up {WORKING_DIR}/ directory\")\n",
    "\n",
    "print(f\"\\nNotebook completed using {OLLAMA_MODE} mode!\")\n",
    "print(\"You now have a foundation for multimodal LLM applications.\")"
   ]
  }
 ],
 "metadata": {
  "kernelspec": {
   "display_name": "Python 3",
   "language": "python",
   "name": "python3"
  },
  "language_info": {
   "codemirror_mode": {
    "name": "ipython",
    "version": 3
   },
   "file_extension": ".py",
   "mimetype": "text/x-python",
   "name": "python",
   "nbconvert_exporter": "python3",
   "version": "3.8.0"
  }
 },
 "nbformat": 4,
 "nbformat_minor": 4
}
